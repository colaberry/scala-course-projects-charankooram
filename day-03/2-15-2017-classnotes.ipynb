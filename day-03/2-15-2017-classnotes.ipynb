{
 "cells": [
  {
   "cell_type": "markdown",
   "metadata": {},
   "source": [
    "Type parameterization - Generics in scala\n"
   ]
  },
  {
   "cell_type": "code",
   "execution_count": 1,
   "metadata": {
    "collapsed": false
   },
   "outputs": [
    {
     "data": {
      "text/plain": [
       "defined \u001b[32mclass \u001b[36mTypeClass\u001b[0m"
      ]
     },
     "metadata": {},
     "output_type": "display_data"
    }
   ],
   "source": [
    "class TypeClass[T]"
   ]
  },
  {
   "cell_type": "code",
   "execution_count": 9,
   "metadata": {
    "collapsed": false
   },
   "outputs": [
    {
     "data": {
      "text/plain": [
       "defined \u001b[32mclass \u001b[36mParentClass\u001b[0m\n",
       "defined \u001b[32mclass \u001b[36mChildClass\u001b[0m\n",
       "defined \u001b[32mclass \u001b[36mTypeClass\u001b[0m\n",
       "\u001b[36mp\u001b[0m: \u001b[32m$user\u001b[0m.\u001b[32mTypeClass\u001b[0m[\u001b[32m$user\u001b[0m.\u001b[32mParentClass\u001b[0m] = cmd8$$user$TypeClass@54b3d491\n",
       "\u001b[36mc\u001b[0m: \u001b[32m$user\u001b[0m.\u001b[32mTypeClass\u001b[0m[\u001b[32m$user\u001b[0m.\u001b[32mChildClass\u001b[0m] = cmd8$$user$TypeClass@49c27fe2"
      ]
     },
     "metadata": {},
     "output_type": "display_data"
    }
   ],
   "source": [
    "class ParentClass extends Ordered[ParentClass]{\n",
    "\n",
    "  def compare(that:ParentClass)={\n",
    "  0\n",
    "  }\n",
    "}\n",
    "\n",
    "class ChildClass extends ParentClass\n",
    "\n",
    "class TypeClass[T]\n",
    "\n",
    "val p = new TypeClass[ParentClass]\n",
    "val c = new TypeClass[ChildClass]\n"
   ]
  },
  {
   "cell_type": "code",
   "execution_count": 4,
   "metadata": {
    "collapsed": false
   },
   "outputs": [
    {
     "data": {
      "text/plain": [
       "defined \u001b[32mclass \u001b[36mTypeClass\u001b[0m"
      ]
     },
     "metadata": {},
     "output_type": "display_data"
    }
   ],
   "source": [
    "class TypeClass[T]\n"
   ]
  },
  {
   "cell_type": "code",
   "execution_count": 3,
   "metadata": {
    "collapsed": false
   },
   "outputs": [
    {
     "ename": "",
     "evalue": "",
     "output_type": "error",
     "traceback": [
      "\u001b[31mMain.scala:31: type mismatch;",
      " found   : cmd3.this.$ref$cmd1.TypeClass[cmd3.this.$ref$cmd1.ParentClass]",
      " required: cmd3.this.$ref$cmd2.TypeClass[cmd3.this.$ref$cmd1.ParentClass]",
      "}.apply",
      "  ^\u001b[0m"
     ]
    }
   ],
   "source": [
    "val anotherp : TypeClass[ParentClass] = p"
   ]
  },
  {
   "cell_type": "code",
   "execution_count": 6,
   "metadata": {
    "collapsed": false
   },
   "outputs": [
    {
     "data": {
      "text/plain": [
       "defined \u001b[32mclass \u001b[36mTypeClass\u001b[0m\n",
       "\u001b[36mp\u001b[0m: \u001b[32m$user\u001b[0m.\u001b[32mTypeClass\u001b[0m[\u001b[32mParentClass\u001b[0m] = cmd5$$user$TypeClass@1486613c\n",
       "\u001b[36mc\u001b[0m: \u001b[32m$user\u001b[0m.\u001b[32mTypeClass\u001b[0m[\u001b[32mChildClass\u001b[0m] = cmd5$$user$TypeClass@6b218ee9\n",
       "\u001b[36mpr\u001b[0m: \u001b[32m$user\u001b[0m.\u001b[32mTypeClass\u001b[0m[\u001b[32mParentClass\u001b[0m] = cmd5$$user$TypeClass@6b218ee9"
      ]
     },
     "metadata": {},
     "output_type": "display_data"
    }
   ],
   "source": [
    "class TypeClass[+T] //co-variance\n",
    "\n",
    "val p = new TypeClass[ParentClass]\n",
    "val c = new TypeClass[ChildClass]\n",
    "\n",
    "val pr : TypeClass[ParentClass] = c"
   ]
  },
  {
   "cell_type": "code",
   "execution_count": 7,
   "metadata": {
    "collapsed": false
   },
   "outputs": [
    {
     "data": {
      "text/plain": [
       "defined \u001b[32mclass \u001b[36mTypeClass\u001b[0m\n",
       "\u001b[36mp\u001b[0m: \u001b[32m$user\u001b[0m.\u001b[32mTypeClass\u001b[0m[\u001b[32mParentClass\u001b[0m] = cmd6$$user$TypeClass@2ec9f174\n",
       "\u001b[36mc\u001b[0m: \u001b[32m$user\u001b[0m.\u001b[32mTypeClass\u001b[0m[\u001b[32mChildClass\u001b[0m] = cmd6$$user$TypeClass@5221e5b3\n",
       "\u001b[36mpr2\u001b[0m: \u001b[32m$user\u001b[0m.\u001b[32mTypeClass\u001b[0m[\u001b[32mChildClass\u001b[0m] = cmd6$$user$TypeClass@2ec9f174"
      ]
     },
     "metadata": {},
     "output_type": "display_data"
    }
   ],
   "source": [
    "class TypeClass[-T] //contra-variance\n",
    "\n",
    "val p = new TypeClass[ParentClass]\n",
    "val c = new TypeClass[ChildClass]\n",
    "\n",
    "val pr2 : TypeClass[ChildClass] = p"
   ]
  },
  {
   "cell_type": "markdown",
   "metadata": {},
   "source": [
    "LowerBound - UpperBound"
   ]
  },
  {
   "cell_type": "code",
   "execution_count": 8,
   "metadata": {
    "collapsed": false
   },
   "outputs": [
    {
     "data": {
      "text/plain": [
       "defined \u001b[32mclass \u001b[36mSomeOtherClass\u001b[0m\n",
       "defined \u001b[32mclass \u001b[36mGreatList\u001b[0m"
      ]
     },
     "metadata": {},
     "output_type": "display_data"
    }
   ],
   "source": [
    "class SomeOtherClass\n",
    "class GreatList[T]{\n",
    "\n",
    "def add[S>:T](n:S)={\n",
    "// LowerBound S must be SuperClass of T\n",
    "}\n",
    "\n",
    "def altAdd[S<:T](n:S)={\n",
    "// UpperBound S must be a subclass of T\n",
    "}\n",
    "\n",
    "// WORKS WITH TRAITS\n",
    "def altTraitAdd[T<:Ordered[T]](n:T)={\n",
    "// T must be mixed with Ordered Trait\n",
    "}\n",
    "\n",
    "\n",
    "}\n",
    "\n",
    "\n"
   ]
  },
  {
   "cell_type": "code",
   "execution_count": 10,
   "metadata": {
    "collapsed": false
   },
   "outputs": [
    {
     "data": {
      "text/plain": [
       "defined \u001b[32mclass \u001b[36mSomeList\u001b[0m\n",
       "\u001b[36mc\u001b[0m: \u001b[32m$user\u001b[0m.\u001b[32mSomeList\u001b[0m[\u001b[32mParentClass\u001b[0m] = cmd9$$user$SomeList@7d45ba54"
      ]
     },
     "metadata": {},
     "output_type": "display_data"
    }
   ],
   "source": [
    "class SomeList[T <: Ordered[T]]\n",
    "\n",
    "val c = new SomeList[ParentClass]"
   ]
  },
  {
   "cell_type": "markdown",
   "metadata": {},
   "source": [
    "Implicit Class"
   ]
  },
  {
   "cell_type": "code",
   "execution_count": 10,
   "metadata": {
    "collapsed": false
   },
   "outputs": [
    {
     "ename": "",
     "evalue": "",
     "output_type": "error",
     "traceback": [
      "\u001b[31m<console>:1: Invalid literal number",
      "val r = 5x4",
      "        ^\u001b[0m"
     ]
    }
   ],
   "source": [
    "abstract class Shape\n",
    "case class Square(s:Int) extends Shape\n",
    "case class Rectangle(l:Int,b:Int) extends Shape\n",
    "\n",
    "implicit class RectangularHelper(l:Int){\n",
    "def x(b:Int) = Rectangle(l,b)\n",
    "}\n",
    "\n",
    "//val r = 5x4\n",
    "//val r = RectangularHelper(5).x(4)\n"
   ]
  },
  {
   "cell_type": "markdown",
   "metadata": {},
   "source": [
    "Collections\n"
   ]
  },
  {
   "cell_type": "code",
   "execution_count": 11,
   "metadata": {
    "collapsed": false
   },
   "outputs": [
    {
     "data": {
      "text/plain": [
       "\u001b[36mm\u001b[0m: \u001b[32mMap\u001b[0m[\u001b[32mString\u001b[0m, \u001b[32mString\u001b[0m] = \u001b[33mMap\u001b[0m(\u001b[32m\"Mavericks\"\u001b[0m -> \u001b[32m\"Dallas\"\u001b[0m, \u001b[32m\"Lakers\"\u001b[0m -> \u001b[32m\"LA\"\u001b[0m)"
      ]
     },
     "metadata": {},
     "output_type": "display_data"
    }
   ],
   "source": [
    "val m = Map(\"Mavericks\" -> \"Dallas\",\"Lakers\"->\"LA\")\n"
   ]
  },
  {
   "cell_type": "code",
   "execution_count": 12,
   "metadata": {
    "collapsed": false
   },
   "outputs": [
    {
     "data": {
      "text/plain": [
       "\u001b[36mres11\u001b[0m: \u001b[32mString\u001b[0m = \u001b[32m\"Dallas\"\u001b[0m"
      ]
     },
     "metadata": {},
     "output_type": "display_data"
    }
   ],
   "source": [
    "m(\"Mavericks\")"
   ]
  },
  {
   "cell_type": "code",
   "execution_count": 13,
   "metadata": {
    "collapsed": false
   },
   "outputs": [
    {
     "ename": "",
     "evalue": "",
     "output_type": "error",
     "traceback": [
      "java.util.NoSuchElementException: key not found: Warriors (key not found: Warriors)",
      "  scala.collection.MapLike$class.default(MapLike.scala:228)",
      "  scala.collection.AbstractMap.default(Map.scala:59)",
      "  scala.collection.MapLike$class.apply(MapLike.scala:141)",
      "  scala.collection.AbstractMap.apply(Map.scala:59)",
      "  cmd12$$user$$anonfun$1.apply(Main.scala:25)",
      "  cmd12$$user$$anonfun$1.apply(Main.scala:24)"
     ]
    }
   ],
   "source": [
    "m(\"Warriors\")"
   ]
  },
  {
   "cell_type": "code",
   "execution_count": 14,
   "metadata": {
    "collapsed": false
   },
   "outputs": [
    {
     "data": {
      "text/plain": [
       "\u001b[36mres13\u001b[0m: \u001b[32mOption\u001b[0m[\u001b[32mString\u001b[0m] = \u001b[33mSome\u001b[0m(\u001b[32m\"LA\"\u001b[0m)"
      ]
     },
     "metadata": {},
     "output_type": "display_data"
    }
   ],
   "source": [
    "m get \"Lakers\""
   ]
  },
  {
   "cell_type": "code",
   "execution_count": 15,
   "metadata": {
    "collapsed": false
   },
   "outputs": [
    {
     "name": "stdout",
     "output_type": "stream",
     "text": [
      "LA\n"
     ]
    },
    {
     "data": {
      "text/plain": []
     },
     "metadata": {},
     "output_type": "display_data"
    }
   ],
   "source": [
    "m get \"Lakers\" match {\n",
    "    case Some(s) => println(s)\n",
    "    case None => println(\"Not found\")\n",
    "}"
   ]
  },
  {
   "cell_type": "code",
   "execution_count": 16,
   "metadata": {
    "collapsed": false
   },
   "outputs": [
    {
     "name": "stdout",
     "output_type": "stream",
     "text": [
      "Not found\n"
     ]
    },
    {
     "data": {
      "text/plain": []
     },
     "metadata": {},
     "output_type": "display_data"
    }
   ],
   "source": [
    "m get \"Warriors\" match { \n",
    " case Some(s) => println(s)\n",
    " case None => println(\"Not found\")\n",
    "}"
   ]
  },
  {
   "cell_type": "code",
   "execution_count": 17,
   "metadata": {
    "collapsed": false
   },
   "outputs": [
    {
     "data": {
      "text/plain": [
       "defined \u001b[32mfunction \u001b[36maddMethod\u001b[0m"
      ]
     },
     "metadata": {},
     "output_type": "display_data"
    }
   ],
   "source": [
    "def addMethod(y:Option[String]) : Option[String] = {\n",
    "  if(y!=None) y else None\n",
    "}"
   ]
  },
  {
   "cell_type": "code",
   "execution_count": 18,
   "metadata": {
    "collapsed": false
   },
   "outputs": [
    {
     "ename": "",
     "evalue": "",
     "output_type": "error",
     "traceback": [
      "\u001b[31mMain.scala:25: not found: value some",
      "addMethod(some(name)) match {",
      "          ^\u001b[0m",
      "\u001b[31mMain.scala:25: not found: value name",
      "addMethod(some(name)) match {",
      "               ^\u001b[0m"
     ]
    }
   ],
   "source": [
    "addMethod(some(name)) match {\n",
    "  case Some(s) => println(s)\n",
    "  case None => println(\"not there\")\n",
    "\n",
    "}"
   ]
  },
  {
   "cell_type": "markdown",
   "metadata": {},
   "source": [
    "Null ( No Reference objects found)\n",
    "Nothing ( abnormal termination)\n",
    "None (no value)\n",
    "Unit functions that do not return anything\n",
    "nil empty list \n"
   ]
  },
  {
   "cell_type": "code",
   "execution_count": null,
   "metadata": {
    "collapsed": true
   },
   "outputs": [],
   "source": [
    "/*\n",
    "Null ( No Reference objects found)\n",
    "Nothing ( abnormal termination) \n",
    "None (no value) \n",
    "Unit functions that do not return anything \n",
    "nil empty list\n",
    "*/\n",
    "\n"
   ]
  }
 ],
 "metadata": {
  "kernelspec": {
   "display_name": "Scala 2.11",
   "language": "scala211",
   "name": "scala211"
  },
  "language_info": {
   "codemirror_mode": "text/x-scala",
   "file_extension": ".scala",
   "mimetype": "text/x-scala",
   "name": "scala211",
   "pygments_lexer": "scala",
   "version": "2.11.7"
  }
 },
 "nbformat": 4,
 "nbformat_minor": 1
}
